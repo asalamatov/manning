{
 "cells": [
  {
   "cell_type": "code",
   "execution_count": null,
   "id": "06f46fe0-c6d2-40ea-9a9b-77da394ebc0b",
   "metadata": {},
   "outputs": [],
   "source": []
  }
 ],
 "metadata": {
  "kernelspec": {
   "display_name": "ve_py3_8",
   "language": "python",
   "name": "ve_py3_8"
  },
  "language_info": {
   "codemirror_mode": {
    "name": "ipython",
    "version": 3
   },
   "file_extension": ".py",
   "mimetype": "text/x-python",
   "name": "python",
   "nbconvert_exporter": "python",
   "pygments_lexer": "ipython3",
   "version": "3.8.18"
  }
 },
 "nbformat": 4,
 "nbformat_minor": 5
}
